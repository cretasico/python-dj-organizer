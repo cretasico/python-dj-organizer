{
 "cells": [
  {
   "cell_type": "code",
   "execution_count": 1,
   "metadata": {},
   "outputs": [
    {
     "name": "stdout",
     "output_type": "stream",
     "text": [
      "Procesando hoja: Sheet1\n",
      "Error al analizar E:\\Musica-E\\DJ Project\\Multi Culti Party\\mix\\Mix_VicoDJ_-_Cuentale.mp3: \n"
     ]
    },
    {
     "name": "stderr",
     "output_type": "stream",
     "text": [
      "Traceback (most recent call last):\n",
      "  File \"C:\\Users\\aleja\\AppData\\Local\\Temp\\ipykernel_35160\\2100267759.py\", line 12, in analyze_audio\n",
      "    tempo, _ = librosa.beat.beat_track(y=y, sr=sr, hop_length=512)\n",
      "  File \"C:\\Users\\aleja\\AppData\\Local\\Packages\\PythonSoftwareFoundation.Python.3.10_qbz5n2kfra8p0\\LocalCache\\local-packages\\Python310\\site-packages\\librosa\\beat.py\", line 230, in beat_track\n",
      "    bpm = _tempo(\n",
      "  File \"C:\\Users\\aleja\\AppData\\Local\\Packages\\PythonSoftwareFoundation.Python.3.10_qbz5n2kfra8p0\\LocalCache\\local-packages\\Python310\\site-packages\\librosa\\feature\\rhythm.py\", line 415, in tempo\n",
      "    tg = tempogram(\n",
      "  File \"C:\\Users\\aleja\\AppData\\Local\\Packages\\PythonSoftwareFoundation.Python.3.10_qbz5n2kfra8p0\\LocalCache\\local-packages\\Python310\\site-packages\\librosa\\feature\\rhythm.py\", line 175, in tempogram\n",
      "    autocorrelate(odf_frame * ac_window, axis=-2), norm=norm, axis=-2\n",
      "  File \"C:\\Users\\aleja\\AppData\\Local\\Packages\\PythonSoftwareFoundation.Python.3.10_qbz5n2kfra8p0\\LocalCache\\local-packages\\Python310\\site-packages\\librosa\\core\\audio.py\", line 929, in autocorrelate\n",
      "    powspec = util.abs2(fft.rfft(y, n=n_pad, axis=axis))\n",
      "  File \"C:\\Users\\aleja\\AppData\\Local\\Packages\\PythonSoftwareFoundation.Python.3.10_qbz5n2kfra8p0\\LocalCache\\local-packages\\Python310\\site-packages\\numpy\\fft\\_pocketfft.py\", line 409, in rfft\n",
      "    output = _raw_fft(a, n, axis, True, True, inv_norm)\n",
      "  File \"C:\\Users\\aleja\\AppData\\Local\\Packages\\PythonSoftwareFoundation.Python.3.10_qbz5n2kfra8p0\\LocalCache\\local-packages\\Python310\\site-packages\\numpy\\fft\\_pocketfft.py\", line 73, in _raw_fft\n",
      "    r = pfi.execute(a, is_real, is_forward, fct)\n",
      "MemoryError\n"
     ]
    },
    {
     "name": "stdout",
     "output_type": "stream",
     "text": [
      "Actualizado: Nombre=Mix_VicoDJ_-_Cuentale, Titulo=Mix_VicoDJ_-_Cuentale, BPM=None, Clave / Key=None\n",
      "Archivo Excel guardado en E:\\Musica-E\\Organizacion\\Biblioteca.xlsx\n",
      "Archivo Excel actualizado con BPM y Clave / Key para 1 canciones.\n",
      "Detalles de las canciones actualizadas:\n",
      "Nombre: Mix_VicoDJ_-_Cuentale, Título: Mix_VicoDJ_-_Cuentale, Ubicación: E:\\Musica-E\\DJ Project\\Multi Culti Party\\mix, BPM: None, Clave / Key: None\n"
     ]
    }
   ],
   "source": [
    "import os\n",
    "import pandas as pd\n",
    "import librosa\n",
    "import traceback\n",
    "\n",
    "def analyze_audio(file_path):\n",
    "    \"\"\"Analiza un archivo de audio y retorna el BPM y la clave.\"\"\"\n",
    "    try:\n",
    "        # Cargar el archivo de audio\n",
    "        y, sr = librosa.load(file_path, sr=None)\n",
    "        # Detectar BPM (tempo)\n",
    "        tempo, _ = librosa.beat.beat_track(y=y, sr=sr, hop_length=512)\n",
    "        # Detectar clave (Key)\n",
    "        key = librosa.feature.chroma_cqt(y=y, sr=sr).mean(axis=1).argmax()\n",
    "        return tempo, librosa.midi_to_note(key)\n",
    "    except Exception as e:\n",
    "        print(f\"Error al analizar {file_path}: {e}\")\n",
    "        traceback.print_exc()  # Muestra el detalle completo del error\n",
    "        return None, None\n",
    "\n",
    "def save_library(library_df_dict, output_file):\n",
    "    \"\"\"Guarda el archivo Excel actualizado.\"\"\"\n",
    "    with pd.ExcelWriter(output_file, engine='openpyxl') as writer:\n",
    "        for sheet_name, df in library_df_dict.items():\n",
    "            df.to_excel(writer, sheet_name=sheet_name, index=False)\n",
    "    print(f\"Archivo Excel guardado en {output_file}\")\n",
    "\n",
    "def update_biblioteca_with_missing_values(library_file, output_file, max_updates=100, save_interval=10):\n",
    "    # Leer todas las hojas del archivo \"Biblioteca.xlsx\"\n",
    "    library_df_dict = pd.read_excel(library_file, sheet_name=None)\n",
    "\n",
    "    updated_song_details = []\n",
    "\n",
    "    # Contador de actualizaciones\n",
    "    updates_count = 0\n",
    "\n",
    "    # Recorrer todas las hojas de \"Biblioteca.xlsx\"\n",
    "    for sheet_name, library_df in library_df_dict.items():\n",
    "        print(f\"Procesando hoja: {sheet_name}\")\n",
    "\n",
    "        if 'Titulo' in library_df.columns and 'Ubicacion' in library_df.columns and 'Nombre' in library_df.columns:\n",
    "            library_df['Titulo'] = library_df['Titulo'].apply(lambda x: x.replace(\"’\", \"'\").replace(\".mp3\", \"\"))\n",
    "            library_df['Nombre'] = library_df['Nombre'].apply(lambda x: x.replace(\"’\", \"'\").replace(\".mp3\", \"\"))\n",
    "\n",
    "            # Buscar títulos sin BPM o Clave / Key\n",
    "            for index, row in library_df.iterrows():\n",
    "                if (pd.isna(row['BPM']) or pd.isna(row['Clave / Key'])) and updates_count < max_updates:\n",
    "                    # Verificar ambas posibles rutas de archivo\n",
    "                    file_path = os.path.join(row['Ubicacion'], row['Nombre'] + \".mp3\")\n",
    "                    if not os.path.exists(file_path):\n",
    "                        file_path = os.path.join(row['Ubicacion'], row['Titulo'] + \".mp3\")\n",
    "                    \n",
    "                    if os.path.exists(file_path):\n",
    "                        bpm, key = analyze_audio(file_path)\n",
    "                        if pd.isna(row['BPM']) and bpm:\n",
    "                            library_df.at[index, 'BPM'] = bpm\n",
    "                        if pd.isna(row['Clave / Key']) and key:\n",
    "                            library_df.at[index, 'Clave / Key'] = key\n",
    "                        updated_song_details.append({\n",
    "                            'Nombre': row['Nombre'],\n",
    "                            'Titulo': row['Titulo'],\n",
    "                            'Ubicacion': row['Ubicacion'],\n",
    "                            'BPM': bpm if pd.isna(row['BPM']) else row['BPM'],\n",
    "                            'Clave / Key': key if pd.isna(row['Clave / Key']) else row['Clave / Key']\n",
    "                        })\n",
    "                        updates_count += 1\n",
    "                        print(f\"Actualizado: Nombre={row['Nombre']}, Titulo={row['Titulo']}, BPM={bpm}, Clave / Key={key}\")\n",
    "                        \n",
    "                        # Guardar cada 10 actualizaciones\n",
    "                        if updates_count % save_interval == 0:\n",
    "                            save_library(library_df_dict, output_file)\n",
    "                    else:\n",
    "                        print(f\"Archivo no encontrado: {file_path}\")\n",
    "\n",
    "                    if updates_count >= max_updates:\n",
    "                        break  # Salir del bucle después de actualizar el número máximo de canciones\n",
    "\n",
    "            # Actualizar el DataFrame en el diccionario\n",
    "            library_df_dict[sheet_name] = library_df\n",
    "        else:\n",
    "            print(f\"La hoja '{sheet_name}' no tiene las columnas necesarias 'Titulo', 'Nombre' y 'Ubicacion'.\")\n",
    "\n",
    "        if updates_count >= max_updates:\n",
    "            break  # Salir del bucle después de actualizar el número máximo de canciones\n",
    "\n",
    "    # Guardar el archivo actualizado final\n",
    "    save_library(library_df_dict, output_file)\n",
    "\n",
    "    print(f\"Archivo Excel actualizado con BPM y Clave / Key para {updates_count} canciones.\")\n",
    "    return updated_song_details\n",
    "\n",
    "# Configuraciones\n",
    "library_file = r\"E:\\Musica-E\\Organizacion\\Biblioteca.xlsx\"\n",
    "output_file = library_file  # Sobrescribir el archivo original \"Biblioteca.xlsx\"\n",
    "max_updates = 2000  # Número máximo de canciones a actualizar\n",
    "save_interval = 10  # Guardar el archivo cada 10 actualizaciones\n",
    "\n",
    "# Actualizar el archivo con BPM y Clave / Key generados para hasta 100 canciones sin estos valores\n",
    "updated_song_details = update_biblioteca_with_missing_values(library_file, output_file, max_updates, save_interval)\n",
    "\n",
    "# Imprimir los detalles de las canciones actualizadas\n",
    "if updated_song_details:\n",
    "    print(\"Detalles de las canciones actualizadas:\")\n",
    "    for song in updated_song_details:\n",
    "        print(f\"Nombre: {song['Nombre']}, Título: {song['Titulo']}, Ubicación: {song['Ubicacion']}, BPM: {song['BPM']}, Clave / Key: {song['Clave / Key']}\")\n",
    "else:\n",
    "    print(\"No se encontraron canciones sin BPM o Clave / Key para actualizar.\")\n"
   ]
  },
  {
   "cell_type": "code",
   "execution_count": 1,
   "metadata": {},
   "outputs": [
    {
     "name": "stdout",
     "output_type": "stream",
     "text": [
      "Librosa version: 0.10.2.post1\n",
      "Soundfile version: 0.12.1\n"
     ]
    }
   ],
   "source": [
    "import librosa\n",
    "import soundfile\n",
    "\n",
    "print(\"Librosa version:\", librosa.__version__)\n",
    "print(\"Soundfile version:\", soundfile.__version__)\n"
   ]
  }
 ],
 "metadata": {
  "kernelspec": {
   "display_name": "Python 3",
   "language": "python",
   "name": "python3"
  },
  "language_info": {
   "codemirror_mode": {
    "name": "ipython",
    "version": 3
   },
   "file_extension": ".py",
   "mimetype": "text/x-python",
   "name": "python",
   "nbconvert_exporter": "python",
   "pygments_lexer": "ipython3",
   "version": "3.10.11"
  }
 },
 "nbformat": 4,
 "nbformat_minor": 2
}
