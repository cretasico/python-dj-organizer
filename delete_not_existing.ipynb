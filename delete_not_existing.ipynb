{
 "cells": [
  {
   "cell_type": "code",
   "execution_count": 2,
   "metadata": {},
   "outputs": [
    {
     "name": "stdout",
     "output_type": "stream",
     "text": [
      "Procesando hoja: Sheet1\n",
      "Archivo no encontrado y eliminando fila: E:\\Musica-E\\DJ Project\\Biblioteca\\Nuevos\\David Guetta, Anne-Marie, Coi Leray - Baby Don't Hurt Me (Lyric video).mp3\n",
      "Archivo no encontrado y eliminando fila: E:\\Musica-E\\DJ Project\\Biblioteca\\dance music\\1\\Vente Pa' Ca - Ricky Martin Ft Maluma.mp3\n",
      "Archivo no encontrado y eliminando fila: E:\\Musica-E\\DJ Project\\dance music\\1\\Vente Pa' Ca - Ricky Martin Ft Maluma.mp3\n",
      "Archivo no encontrado y eliminando fila: E:\\Musica-E\\DJ Project\\Biblioteca\\dance music\\1\\Zedd,AlessiaCara - Stay.mp3\n",
      "Archivo no encontrado y eliminando fila: E:\\Musica-E\\DJ Project\\Biblioteca\\dance music\\1\\Don't Stop The Party - Pitbull Ft TJR.mp3\n",
      "Archivo no encontrado y eliminando fila: E:\\Musica-E\\DJ Project\\dance music\\1\\Don't Stop The Party - Pitbull Ft TJR.mp3\n",
      "Archivo no encontrado y eliminando fila: E:\\Musica-E\\DJ Project\\Biblioteca\\dance music\\1\\Zedd,AlessiaCara - Stay.mp3\n",
      "Archivo no encontrado y eliminando fila: E:\\Musica-E\\DJ Project\\dance music\\1\\Bruno Mars - That's What I Like.mp3\n",
      "Archivo no encontrado y eliminando fila: E:\\Musica-E\\DJ Project\\Biblioteca\\dance music\\1\\Bruno Mars - That's What I Like.mp3\n",
      "Archivo no encontrado y eliminando fila: E:\\Musica-E\\DJ Project\\Giu - Rock\\Guns N' Roses - Sweet Child O' Mine (lyrics).mp3\n",
      "Archivo no encontrado y eliminando fila: E:\\Musica-E\\DJ Project\\dance music\\Avicii & Sebastien Drums - My Feelings For You.mp3\n",
      "Archivo no encontrado y eliminando fila: E:\\Musica-E\\DJ Project\\dance music\\Avicii - Wake Me Up.mp3\n",
      "Archivo no encontrado y eliminando fila: E:\\Musica-E\\DJ Project\\dance music\\Daft Punk - One More Time.mp3\n",
      "Archivo no encontrado y eliminando fila: E:\\Musica-E\\DJ Project\\dance music\\I Think I Like It.mp3\n",
      "Archivo no encontrado y eliminando fila: E:\\Musica-E\\DJ Project\\dance music\\Stolen Dance.mp3\n",
      "Archivo no encontrado y eliminando fila: E:\\Musica-E\\DJ Project\\dance music\\Stromae - Papaoutai.mp3\n",
      "Archivo no encontrado y eliminando fila: E:\\Musica-E\\DJ Project\\dance music\\The Black Eyed Peas - I Gotta Feeling.mp3\n",
      "Archivo no encontrado y eliminando fila: E:\\Musica-E\\DJ Project\\dance music\\Yame becane funk dj zullu.mp3\n",
      "Archivo no encontrado y eliminando fila: E:\\Musica-E\\DJ Project\\Biblioteca\\Nuevos\\David Guetta, Anne-Marie, Coi Leray - Baby Don't Hurt Me (Lyric video).mp3\n",
      "Archivo no encontrado y eliminando fila: E:\\Musica-E\\DJ Project\\dance music\\Bruno Mars - That's What I Like.mp3\n",
      "Archivo no encontrado y eliminando fila: E:\\Musica-E\\DJ Project\\dance music\\Don't Stop The Party - Pitbull Ft TJR.mp3\n",
      "Archivo no encontrado y eliminando fila: E:\\Musica-E\\DJ Project\\dance music\\Vente Pa' Ca - Ricky Martin Ft Maluma.mp3\n",
      "Archivo no encontrado y eliminando fila: E:\\Musica-E\\DJ Project\\Giu - Rock\\Guns N' Roses - Sweet Child O' Mine (lyrics).mp3\n",
      "Archivo no encontrado y eliminando fila: E:\\Musica-E\\DJ Project\\musica disco - Madre\\REYNA DE CORAZONES    JESSICA  WILLIANS.MP3.mp3\n",
      "Archivo no encontrado y eliminando fila: E:\\Musica-E\\DJ Project\\musica disco - YO\\Musica Disco\\REYNA DE CORAZONES    JESSICA  WILLIANS.MP3.mp3\n",
      "Archivo Excel actualizado: E:\\Musica-E\\Organizacion\\Biblioteca.xlsx\n"
     ]
    }
   ],
   "source": [
    "import os\n",
    "import pandas as pd\n",
    "\n",
    "def clean_string(s):\n",
    "    \"\"\"Limpia el string de espacios adicionales y elimina la extensión si es necesario.\"\"\"\n",
    "    return s.strip().replace(\"’\", \"'\").replace(\".mp3\", \"\")\n",
    "\n",
    "def check_and_remove_missing_files(library_file):\n",
    "    \"\"\"Revisa si los archivos en el archivo Excel existen. Elimina la fila si el archivo no existe.\"\"\"\n",
    "    # Leer todas las hojas del archivo \"Biblioteca.xlsx\"\n",
    "    library_df_dict = pd.read_excel(library_file, sheet_name=None)\n",
    "\n",
    "    # Procesar cada hoja en el archivo Excel\n",
    "    for sheet_name, library_df in library_df_dict.items():\n",
    "        print(f\"Procesando hoja: {sheet_name}\")\n",
    "\n",
    "        if 'Titulo' in library_df.columns and 'Ubicacion' in library_df.columns and 'Nombre' in library_df.columns:\n",
    "            library_df['Titulo'] = library_df['Titulo'].apply(clean_string)\n",
    "            library_df['Nombre'] = library_df['Nombre'].apply(clean_string)\n",
    "\n",
    "            # Verificar la existencia de cada archivo MP3 y marcar los inexistentes\n",
    "            rows_to_remove = []\n",
    "            for index, row in library_df.iterrows():\n",
    "                file_path = os.path.join(row['Ubicacion'], row['Nombre'] + \".mp3\")\n",
    "                \n",
    "                # Si el archivo no existe, añadir el índice de la fila para eliminación\n",
    "                if not os.path.exists(file_path):\n",
    "                    rows_to_remove.append(index)\n",
    "                    print(f\"Archivo no encontrado y eliminando fila: {file_path}\")\n",
    "\n",
    "            # Eliminar las filas de archivos inexistentes\n",
    "            library_df.drop(rows_to_remove, inplace=True)\n",
    "        else:\n",
    "            print(f\"La hoja '{sheet_name}' no tiene las columnas necesarias 'Titulo', 'Nombre' y 'Ubicacion'.\")\n",
    "\n",
    "        # Actualizar la hoja en el diccionario después de eliminar filas\n",
    "        library_df_dict[sheet_name] = library_df\n",
    "\n",
    "    # Guardar los cambios en el archivo Excel\n",
    "    with pd.ExcelWriter(library_file, engine='openpyxl') as writer:\n",
    "        for sheet_name, df in library_df_dict.items():\n",
    "            df.to_excel(writer, sheet_name=sheet_name, index=False)\n",
    "    print(f\"Archivo Excel actualizado: {library_file}\")\n",
    "\n",
    "# Configuraciones\n",
    "library_file = r\"E:\\Musica-E\\Organizacion\\Biblioteca.xlsx\"\n",
    "\n",
    "# Ejecutar el proceso de verificación y eliminación\n",
    "check_and_remove_missing_files(library_file)\n"
   ]
  }
 ],
 "metadata": {
  "kernelspec": {
   "display_name": "Python 3",
   "language": "python",
   "name": "python3"
  },
  "language_info": {
   "codemirror_mode": {
    "name": "ipython",
    "version": 3
   },
   "file_extension": ".py",
   "mimetype": "text/x-python",
   "name": "python",
   "nbconvert_exporter": "python",
   "pygments_lexer": "ipython3",
   "version": "3.10.11"
  }
 },
 "nbformat": 4,
 "nbformat_minor": 2
}
